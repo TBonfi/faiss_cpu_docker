{
  "cells": [
    {
      "cell_type": "markdown",
      "source": "",
      "metadata": {
        "tags": [],
        "cell_id": "00005-0d85755f-79c8-48f8-9921-047fee646281",
        "deepnote_cell_type": "markdown"
      }
    },
    {
      "cell_type": "code",
      "metadata": {
        "tags": [],
        "cell_id": "00001-3211c0f0-0860-4fce-9b51-584d96053a13",
        "deepnote_to_be_reexecuted": false,
        "source_hash": "28390425",
        "execution_millis": 645,
        "execution_start": 1619028392572,
        "deepnote_cell_type": "code"
      },
      "source": "!OMP_WAIT_POLICY=PASSIVE",
      "execution_count": null,
      "outputs": []
    },
    {
      "cell_type": "code",
      "metadata": {
        "tags": [],
        "cell_id": "00013-32696dc2-09f2-4d79-aff6-bfb52d39ac38",
        "deepnote_to_be_reexecuted": false,
        "source_hash": "d5da18c5",
        "execution_millis": 47,
        "execution_start": 1619028393223,
        "deepnote_cell_type": "code"
      },
      "source": "import faiss\nimport numpy as np\n\n\nclass FaissKMeans:\n    def __init__(self, n_clusters=4, n_init=1000, max_iter=300, random_state=42):\n        self.n_clusters = n_clusters\n        self.n_init = n_init\n        self.max_iter = max_iter\n        self.seed = random_state\n        self.kmeans = None\n        self.cluster_centers_ = None\n        self.inertia_ = None\n\n    def fit(self, X):\n        self.kmeans = faiss.Kmeans(d=X.shape[1],\n                                   k=self.n_clusters,\n                                   niter=self.max_iter,\n                                   nredo=self.n_init,\n                                   seed=self.seed)\n        self.kmeans.train(X.astype(np.float32))\n        self.cluster_centers_ = self.kmeans.centroids\n        self.inertia_ = self.kmeans.obj[-1]\n\n    def predict(self, X):\n        return self.kmeans.index.search(X.astype(np.float32), 1)[1]",
      "execution_count": null,
      "outputs": []
    },
    {
      "cell_type": "code",
      "metadata": {
        "tags": [],
        "cell_id": "00014-42710e9b-7d4d-45a0-b111-c96d7d031ea9",
        "deepnote_to_be_reexecuted": false,
        "source_hash": "b3e2315b",
        "execution_millis": 910,
        "execution_start": 1619028629694,
        "deepnote_cell_type": "code"
      },
      "source": "from sklearn.datasets import make_blobs\nX, y = make_blobs(n_samples=1000000, centers=8, n_features=30,\n                  random_state=42)",
      "execution_count": null,
      "outputs": []
    },
    {
      "cell_type": "code",
      "metadata": {
        "tags": [],
        "cell_id": "00015-6bca1c22-a28d-4d8a-8285-633a194e728b",
        "deepnote_to_be_reexecuted": false,
        "source_hash": "e120974a",
        "execution_millis": 99858,
        "execution_start": 1619028631474,
        "deepnote_cell_type": "code"
      },
      "source": "%%time\nff = FaissKMeans()\nff.fit(X)",
      "execution_count": null,
      "outputs": [
        {
          "name": "stdout",
          "text": "CPU times: user 2min 27s, sys: 2.18 s, total: 2min 29s\nWall time: 1min 39s\n",
          "output_type": "stream"
        }
      ]
    },
    {
      "cell_type": "code",
      "metadata": {
        "tags": [],
        "cell_id": "00012-f91e4c22-90aa-4694-8bd2-a09ac00f8966",
        "deepnote_to_be_reexecuted": false,
        "source_hash": "5c75adad",
        "execution_millis": 148,
        "execution_start": 1619028490638,
        "deepnote_cell_type": "code"
      },
      "source": "from sklearn.cluster import KMeans",
      "execution_count": null,
      "outputs": []
    },
    {
      "cell_type": "code",
      "metadata": {
        "tags": [],
        "cell_id": "00013-32aabb46-2181-489a-a752-ddbc14bfc192",
        "deepnote_to_be_reexecuted": false,
        "source_hash": "8efd65a8",
        "execution_millis": 510534,
        "execution_start": 1619028731328,
        "deepnote_cell_type": "code"
      },
      "source": "%%time\nkm = KMeans(random_state=42, n_clusters=4, n_init=1000, max_iter=300)\nkm.fit(X)",
      "execution_count": null,
      "outputs": [
        {
          "name": "stdout",
          "text": "CPU times: user 10min 56s, sys: 1min 7s, total: 12min 3s\nWall time: 8min 30s\n",
          "output_type": "stream"
        },
        {
          "output_type": "execute_result",
          "execution_count": 9,
          "data": {
            "text/plain": "KMeans(algorithm='auto', copy_x=True, init='k-means++', max_iter=300,\n       n_clusters=4, n_init=1000, n_jobs=None, precompute_distances='auto',\n       random_state=42, tol=0.0001, verbose=0)"
          },
          "metadata": {}
        }
      ]
    },
    {
      "cell_type": "markdown",
      "source": "<a style='text-decoration:none;line-height:16px;display:flex;color:#5B5B62;padding:10px;justify-content:end;' href='https://deepnote.com?utm_source=created-in-deepnote-cell&projectId=19287847-4e9c-4e57-80f4-c1e388f529ae' target=\"_blank\">\n<img alt='Created in deepnote.com' style='display:inline;max-height:16px;margin:0px;margin-right:7.5px;' src='data:image/svg+xml;base64,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' > </img>\nCreated in <span style='font-weight:600;margin-left:4px;'>Deepnote</span></a>",
      "metadata": {
        "tags": [],
        "created_in_deepnote_cell": true,
        "deepnote_cell_type": "markdown"
      }
    }
  ],
  "nbformat": 4,
  "nbformat_minor": 2,
  "metadata": {
    "orig_nbformat": 2,
    "deepnote": {
      "is_reactive": false
    },
    "deepnote_notebook_id": "501ad2ca-45cc-4fb9-aca8-6186c15ccdaf",
    "deepnote_execution_queue": []
  }
}